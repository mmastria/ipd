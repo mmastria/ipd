{
 "cells": [
  {
   "cell_type": "markdown",
   "metadata": {},
   "source": [
    "# Mecânica Quântica - Lista 1"
   ]
  },
  {
   "cell_type": "markdown",
   "metadata": {},
   "source": [
    "## Questões Conceituais"
   ]
  },
  {
   "cell_type": "markdown",
   "metadata": {},
   "source": [
    "#### 1. Defina radiação térmica e equilíbrio térmico."
   ]
  },
  {
   "cell_type": "markdown",
   "metadata": {},
   "source": [
    "> A radiação térmica está relacionada à emissão de radiação de um corpo em função de sua temperatura. Um material ou partícula que se encontrasse em repouso absoluto (teórico) estaria a ${0K}$. Toda partícula em movimento possui uma energia cinética e uma temperatura maior que o zero absoluto. Em função desta temperatura podemos observar no espectro eletromagnético uma emissão que possui uma relação linear com a frequência onde a radiância máxima ocorre e um crescimento rápido da potência total emitida de acordo com o aumento da temperatura.\n",
    ">\n",
    "> Um corpo emite e absorve radiação térmica em proporções diferentes em função da temperatura do meio no qual ele se encontra. O equilíbrio térmico é atingido quando a quantidade de radição térmica emitida e absorvida pelo corpo se igualam, ou seja, o quando o corpo possui a mesma temperatura do meio que o cerca."
   ]
  },
  {
   "cell_type": "markdown",
   "metadata": {},
   "source": [
    "2. Explique o conceito de corpo negro."
   ]
  },
  {
   "cell_type": "markdown",
   "metadata": {},
   "source": [
    "> Um corpo negro é um objeto teórico que teria a capacidade de absorver toda radiação eletromagnética incidente sobre o mesmo (ou seja, nada seria refletido). Além disto, ele também seria um emissor \"ideal\", ou seja, teria a característica de emitir toda radiação que absorve em igual proporção.\n",
    ">\n",
    "> Um corpo negro possuí um espectro de radiação térmica dependente apenas da temperatura, isto é, independe do material do qual é composto. Esta função é denominada **radiância espectral** e definida como ${R}_{T}(\\nu)$, que denota uma variação da frequência da radiância máxima ($\\nu$) em função da Temperatura (T)."
   ]
  },
  {
   "cell_type": "markdown",
   "metadata": {},
   "source": [
    "#### 3. O que estabelece a Lei de deslocamento de Wien?"
   ]
  },
  {
   "cell_type": "markdown",
   "metadata": {},
   "source": [
    "> A lei de deslocamento de Wien relaciona o comportamento do deslocamento do pico de emissão (radiância máxima) em função da variação da temperatura  de um corpo negro. Esta correlação é dada por ${\\lambda}_{max}=\\frac{b}{T}$, onde (b) é a constante de Wien no valor de $2.898\\times{10}^{-3}mK$, T é a temperatura em Kelvin e ${\\lambda}_{max}$ é o comprimento de onda em metros.\n",
    ">\n",
    "> Através desta correlação, pode-se observar que quanto maior a temperatura menor será o comprimento de onda da radiância máxima (e por consequência, maior sua frequência). O gráfico abaixo ilustra esta correlação."
   ]
  },
  {
   "cell_type": "code",
   "execution_count": 5,
   "metadata": {},
   "outputs": [
    {
     "data": {
      "image/png": "[encoded data removed]",
      "text/plain": [
       "<Figure size 432x288 with 1 Axes>"
      ]
     },
     "metadata": {},
     "output_type": "display_data"
    }
   ],
   "source": [
    "import warnings\n",
    "import matplotlib.pyplot as plt\n",
    "import numpy as np\n",
    "import scipy.constants as sc\n",
    "warnings.filterwarnings(\"ignore\")\n",
    "\n",
    "h = sc.Planck\n",
    "c = sc.speed_of_light\n",
    "k = sc.Boltzmann\n",
    "\n",
    "def planck(wav, T):\n",
    "    intensity = (2.0*h*c**2) / ( (wav**5) * (np.exp(h*c/(wav*k*T)) - 1.0) )\n",
    "    return intensity\n",
    "\n",
    "wavelengths = np.arange(1e-9, 3e-6, 1e-9) \n",
    "\n",
    "intensity4000 = planck(wavelengths, 4000.)\n",
    "intensity5000 = planck(wavelengths, 5000.)\n",
    "intensity6000 = planck(wavelengths, 6000.)\n",
    "intensity7000 = planck(wavelengths, 7000.)\n",
    "\n",
    "plt.hold(True)\n",
    "plt.plot(wavelengths*1e9, intensity4000, 'r-') \n",
    "plt.plot(wavelengths*1e9, intensity5000, 'g-')\n",
    "plt.plot(wavelengths*1e9, intensity6000, 'b-')\n",
    "plt.plot(wavelengths*1e9, intensity7000, 'k-')\n",
    "\n",
    "plt.show()"
   ]
  },
  {
   "cell_type": "markdown",
   "metadata": {},
   "source": [
    "#### 4. O que representa o termo “catástrofe do ultravioleta”?"
   ]
  },
  {
   "cell_type": "markdown",
   "metadata": {},
   "source": [
    "> O termo **catástrofe do ultravioleta** refere-se ao fracasso na tentativa de se obter uma equação com aplicação das leis do eletromagnetismo da teoria clássica que explicasse o comportamento observado da emissão de radiação eletromagnética de um corpo negro.\n",
    ">\n",
    "> No início do século $XX$, Rayleigh e Jeans, com base no princípio da equiparação da energia, desenvolveram uma fórmula para a radiação do corpo negro ${\\rho}_{T}(\\nu)d\\nu=\\frac{8\\pi{\\nu}^{2}kT}{{c}^{3}}d\\nu$ que se aplicava satisfatoriamente nas frequências mais baixas, porém, quando ${\\nu}_{max}$ se aproxima da faixa de emissão do ultra violeta, esta equação leva a radiância espectral à valores tendendo ao infinito, falhando completamente quando comparadados os dados experimentais. Estes resultados incompatíveis denotavam claramente que a física até então conhecida não conseguia explicar o comportamento experimental observado da variação da radiância espectral de um corpo negro."
   ]
  },
  {
   "cell_type": "markdown",
   "metadata": {},
   "source": [
    "#### 5. O que estabelece o “Postulado de Planck”?"
   ]
  },
  {
   "cell_type": "markdown",
   "metadata": {},
   "source": [
    "> Planck identificou que o comportamento da radiância espectral de um corpo negro não obedecia a lei de equiparação de energia onde o valor da energia média independe do valor da frequência (${\\nu}$).\n",
    ">\n",
    "> Assumindo um pressuposto de que a energia poderia assumir apenas valores discretos (e não uma variável contínua) e mudando a forma de fazer o cálculo de integral para uma somatória, conseguindo assim obter um valor de corte onde $\\overline{\\varepsilon}$, a partir do qual começa a decrescer novamente, em direção às frequências mais altas. Desta forma foi possível definir o segunte postulado: $\\varepsilon={nh\\nu}$, onde ${n\\in\\mathbb{N}}$.\n",
    ">\n",
    "> Este postulado define as trocas de energia entre materia e radiação são quantizadas e que só poder ocorrer por multiplos inteiros de um \"quantum\", definido como ${h\\nu}$, sendo ${\\nu}$ a frequência de oscilação e ${h}$ a constante de Planck."
   ]
  },
  {
   "cell_type": "markdown",
   "metadata": {},
   "source": [
    "6. Alguns sistemas físicos apresentam comportamento que parece não estar de acordo com o Postulado de Planck, ou seja, parece não assumir estados discretos de energia. Se estes sistemas realmente não violam o postulado, por que não podemos perceber isso? Comente a dependência do valor da constante de Planck para que pudéssemos perceber os efeitos quânticos no dia-a-dia."
   ]
  },
  {
   "cell_type": "markdown",
   "metadata": {},
   "source": [
    "> O postulado de Planck define que a energia é formada de pequenos pacotes. Estes pacotes são definidos por um número n que multiplica a frequência de oscilação e uma constante. Esta contante, conhecida como constante de Planck, tem o valor de $h=6.626\\times{10}^{−34}Js$ ou $h=4.136\\times{10}^{−15}eVs$.\n",
    "> \n",
    "> Ocorre que, em experimentos práticos, mesmo para valores discretos (n) multiplicados por uma frequência (${\\nu}$), a multiplicação destes fatores pela constante de Planck faz com que a \"separação\" de cada pacote ocorra em uma escala onde instumentos convencionais não são capazes de mensurar. \n",
    ">\n",
    "> O exemplo experimental da página 41 demonstra isto claramente, onde se propõe um pêndulo de $0.01Kg$ supenso por uma corda de $0.1m$ com uma oscilação de $0.1rad$, entregando uma relação ${\\frac{\\Delta E}{E}}$ (variação discreta do nível de energia) da ordem de ${2\\times{10}^{-29}}$, um valor muito pequeno para qualquar instumento de medição. Apenas para uma comparação da ordem de grandeza, o diâmetro típio do núcleo de um átomo vai de $1fm$ a $10fm$ ($1 fermi={10}^{-15}m$)."
   ]
  },
  {
   "cell_type": "markdown",
   "metadata": {},
   "source": [
    "### Problemas"
   ]
  },
  {
   "cell_type": "markdown",
   "metadata": {},
   "source": [
    "1. Em que comprimento de onda um radiador de cavidade a 6000 K irradia mais por unidade de comprimento de onda?"
   ]
  },
  {
   "cell_type": "markdown",
   "metadata": {},
   "source": [
    "2. Mostre que a constante de Planck tem dimensões de momento ângular."
   ]
  },
  {
   "cell_type": "markdown",
   "metadata": {},
   "source": [
    "3. Considere as reações termonucleares de fusão como o mecanismo de geração de energia no núcleo do Sol e que a temperatura nesta região é de $10^7K$. Estime o comprimento de onda em que a radiação emitida é máxima. Em que faixa do espectro eletromagnético essa radiação é emitida?"
   ]
  },
  {
   "cell_type": "markdown",
   "metadata": {},
   "source": [
    "4. Uma cavidade de corpo negro a uma determinada temperatura apresenta emissão máxima em $6500A$. Qual é o comprimento de onda da emissão máxima se a temperatura nas paredes da cavidade for aumentada de forma que a taxa de eissão da radiação seja duplicada?"
   ]
  },
  {
   "cell_type": "markdown",
   "metadata": {},
   "source": [
    "5. Considerando que o espectro de corpo negro de Planck em função da frequência ($\\nu$) é dado pela equação:\n",
    "\n",
    "$$ { \\rho  }_{ T }(\\nu )d\\nu =\\frac { 8\\pi h{ \\nu  }^{ 3 } }{ { c }^{ 3 } } \\times \\frac { 1 }{ { e }^{ { h\\nu  }/{ KT } }-1 } d\\nu $$\n",
    "\n",
    "mostre que a equação equivalente em função do comprimento de onde ($\\lambda$) é:\n",
    "\n",
    "$${ \\rho  }_{ T }(\\lambda )d\\lambda =\\frac { 8\\pi hc }{ { \\lambda  }^{ 5 } } \\times \\frac { 1 }{ { e }^{ { hc }/{ \\lambda KT } }-1 } d\\lambda $$"
   ]
  },
  {
   "cell_type": "code",
   "execution_count": null,
   "metadata": {},
   "outputs": [],
   "source": []
  }
 ],
 "metadata": {
  "kernelspec": {
   "display_name": "Python 3",
   "language": "python",
   "name": "python3"
  },
  "language_info": {
   "codemirror_mode": {
    "name": "ipython",
    "version": 3
   },
   "file_extension": ".py",
   "mimetype": "text/x-python",
   "name": "python",
   "nbconvert_exporter": "python",
   "pygments_lexer": "ipython3",
   "version": "3.6.6"
  }
 },
 "nbformat": 4,
 "nbformat_minor": 2
}
